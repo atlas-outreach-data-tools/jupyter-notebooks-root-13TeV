{
 "cells": [
  {
   "cell_type": "markdown",
   "metadata": {},
   "source": [
    "<CENTER><img src=\"http://localhost:8888/notebooks/notebooks/images/opendata-top-transblack.png\" style=\"width:30%\"></CENTER>"
   ]
  },
  {
   "cell_type": "markdown",
   "metadata": {},
   "source": [
    "<CENTER><h1>Searching for the Higgs boson in the Hyy channel C++ notebook example</h1></CENTER>"
   ]
  },
  {
   "cell_type": "code",
   "execution_count": 1,
   "metadata": {
    "collapsed": true
   },
   "outputs": [],
   "source": [
    "//%jsroot on"
   ]
  },
  {
   "cell_type": "code",
   "execution_count": 2,
   "metadata": {
    "collapsed": true
   },
   "outputs": [],
   "source": [
    "// Creates a TChain to be used by the Analysis.C class\n",
    "#include <TROOT.h>\n",
    "#include <TChain.h>\n",
    "#include <TFile.h>\n",
    "#include <iostream>\n",
    "#include <string>\n",
    "#include <stdio.h>"
   ]
  },
  {
   "cell_type": "code",
   "execution_count": 3,
   "metadata": {
    "collapsed": false
   },
   "outputs": [
    {
     "name": "stdout",
     "output_type": "stream",
     "text": [
      "(TString &) @0x7fd7b18ca028\r\n"
     ]
    }
   ],
   "source": [
    "TString path = \"http://opendata.atlas.cern/release/samples/2019/GamGam/\""
   ]
  },
  {
   "cell_type": "code",
   "execution_count": 4,
   "metadata": {
    "collapsed": false
   },
   "outputs": [],
   "source": [
    "TChain* chain_data = new TChain(\"mini\");\n",
    "chain_data->AddFile(path+\"Data/dataA_yy.root/\"); \n",
    "//chain_data->AddFile(path+\"Data/dataB_yy.root/\");\n",
    "//chain_data->AddFile(path+\"Data/dataC_yy.root/\");\n",
    "//chain_data->AddFile(path+\"Data/data302737-303338_yy.root/\");"
   ]
  },
  {
   "cell_type": "code",
   "execution_count": 5,
   "metadata": {
    "collapsed": false
   },
   "outputs": [],
   "source": [
    "Int_t  photon_n = -1;      //number of preselected photons\n",
    "\n",
    "Float_t photon_pt[5],      //transverse momentum of the photon\n",
    "        photon_eta[5],     //pseudorapidity of the photon\n",
    "        photon_phi[5],     //azimuthal angle of the photon\n",
    "        photon_E[5];       //energy of the photon"
   ]
  },
  {
   "cell_type": "code",
   "execution_count": 6,
   "metadata": {
    "collapsed": true
   },
   "outputs": [],
   "source": [
    "chain_data->SetBranchAddress(\"photon_pt\",        &photon_pt);\n",
    "chain_data->SetBranchAddress(\"photon_n\",         &photon_n);\n",
    "chain_data->SetBranchAddress(\"photon_eta\",       &photon_eta);\n",
    "chain_data->SetBranchAddress(\"photon_phi\",       &photon_phi);\n",
    "chain_data->SetBranchAddress(\"photon_E\",         &photon_E);"
   ]
  },
  {
   "cell_type": "code",
   "execution_count": 7,
   "metadata": {
    "collapsed": true
   },
   "outputs": [],
   "source": [
    "//Invariant mass histograms definition\n",
    "TH1F *h_M_Hyy   = new TH1F(\"h_M_Hyy\"  ,  \"Invariant Mass of the H (Hyy) ; M_Hyy[GeV] ; # de eventos\" ,20,0,150);"
   ]
  },
  {
   "cell_type": "code",
   "execution_count": 8,
   "metadata": {
    "collapsed": true
   },
   "outputs": [],
   "source": [
    "h_M_Hyy->SetMarkerSize(2.0);\n",
    "h_M_Hyy->SetLineColor(kBlue);\n",
    "h_M_Hyy->SetFillColor(kBlue-10);"
   ]
  },
  {
   "cell_type": "code",
   "execution_count": 9,
   "metadata": {
    "collapsed": false
   },
   "outputs": [
    {
     "name": "stdout",
     "output_type": "stream",
     "text": [
      "Analysed a total of: -1 events out of 430348 in this sample\r\n"
     ]
    }
   ],
   "source": [
    "std::cout << \"Analysed a total of: \" << photon_n << \" events out of \" << chain_data->GetEntries() << \" in this sample\" << std::endl;"
   ]
  },
  {
   "cell_type": "code",
   "execution_count": 10,
   "metadata": {
    "collapsed": false
   },
   "outputs": [
    {
     "name": "stderr",
     "output_type": "stream",
     "text": [
      "input_line_80:20:24: error: member reference base type 'Float_t' (aka 'float')\r\n",
      "      is not a structure or union\r\n",
      "          if( photon_pt->at(i) >25000. && TMath::Abs(photon_eta->at(i)<2...\r\n",
      "              ~~~~~~~~~^ ~~\r\n",
      "input_line_80:20:64: error: member reference base type 'Float_t' (aka 'float')\r\n",
      "      is not a structure or union\r\n",
      "          if( photon_pt->at(i) >25000. && TMath::Abs(photon_eta->at(i)<2...\r\n",
      "                                                     ~~~~~~~~~~^ ~~\r\n",
      "input_line_80:20:104: error: member reference base type 'Float_t' (aka 'float')\r\n",
      "      is not a structure or union\r\n",
      "  ...TMath::Abs(photon_eta->at(i)<2.37) && ( TMath::Abs(photon_eta->at(i) < 1...\r\n",
      "                                                        ~~~~~~~~~~^ ~~\r\n",
      "input_line_80:20:144: error: member reference base type 'Float_t' (aka 'float')\r\n",
      "      is not a structure or union\r\n",
      "  ...TMath::Abs(photon_eta->at(i) < 1.37) || TMath::Abs(photon_eta->at(i) > 1...\r\n",
      "                                                        ~~~~~~~~~~^ ~~\r\n",
      "input_line_80:33:36: error: member reference base type 'Float_t' (aka 'float')\r\n",
      "      is not a structure or union\r\n",
      "    Photon_1.SetPtEtaPhiE(photon_pt->at(goodphoton1_index), photon_eta->...\r\n",
      "                          ~~~~~~~~~^ ~~\r\n",
      "input_line_80:33:71: error: member reference base type 'Float_t' (aka 'float')\r\n",
      "      is not a structure or union\r\n",
      "    Photon_1.SetPtEtaPhiE(photon_pt->at(goodphoton1_index), photon_eta->at(g...\r\n",
      "                                                            ~~~~~~~~~~^ ~~\r\n",
      "input_line_80:33:106: error: member reference base type 'Float_t' (aka 'float')\r\n",
      "      is not a structure or union\r\n",
      "  ...photon_eta->at(goodphoton1_index), photon_phi->at(goodphoton1_index),pho...\r\n",
      "                                        ~~~~~~~~~~^ ~~\r\n",
      "input_line_80:33:138: error: member reference base type 'Float_t' (aka 'float')\r\n",
      "      is not a structure or union\r\n",
      "  ...photon_phi->at(goodphoton1_index),photon_E->at(goodphoton1_index));\r\n",
      "                                       ~~~~~~~~^ ~~\r\n",
      "input_line_80:34:36: error: member reference base type 'Float_t' (aka 'float')\r\n",
      "      is not a structure or union\r\n",
      "    Photon_2.SetPtEtaPhiE(photon_pt->at(goodphoton2_index), photon_eta->...\r\n",
      "                          ~~~~~~~~~^ ~~\r\n",
      "input_line_80:34:71: error: member reference base type 'Float_t' (aka 'float')\r\n",
      "      is not a structure or union\r\n",
      "    Photon_2.SetPtEtaPhiE(photon_pt->at(goodphoton2_index), photon_eta->at(g...\r\n",
      "                                                            ~~~~~~~~~~^ ~~\r\n",
      "input_line_80:34:106: error: member reference base type 'Float_t' (aka 'float')\r\n",
      "      is not a structure or union\r\n",
      "  ...photon_eta->at(goodphoton2_index), photon_phi->at(goodphoton2_index),pho...\r\n",
      "                                        ~~~~~~~~~~^ ~~\r\n",
      "input_line_80:34:138: error: member reference base type 'Float_t' (aka 'float')\r\n",
      "      is not a structure or union\r\n",
      "  ...photon_phi->at(goodphoton2_index),photon_E->at(goodphoton2_index));\r\n",
      "                                       ~~~~~~~~^ ~~\r\n",
      "input_line_80:39:40: error: member reference base type 'Float_t' (aka 'float')\r\n",
      "      is not a structure or union\r\n",
      "        float dPhi_yy = fabs(photon_phi->at(goodphoton1_index) - photon_...\r\n",
      "                             ~~~~~~~~~~^ ~~\r\n",
      "input_line_80:39:76: error: member reference base type 'Float_t' (aka 'float')\r\n",
      "      is not a structure or union\r\n",
      "  ...dPhi_yy = fabs(photon_phi->at(goodphoton1_index) - photon_phi->at(goodph...\r\n",
      "                                                        ~~~~~~~~~~^ ~~\r\n"
     ]
    }
   ],
   "source": [
    "int nentries, nbytes, i;\n",
    "nentries = (Int_t)chain_data->GetEntries();\n",
    "\n",
    "std::cout << \" Total number of entries to analyze: \" << nentries << std::endl;\n",
    "// Preselection of good photons\n",
    "for (i=0; i < nentries; i++)\n",
    "{\n",
    "    nbytes =  chain_data->GetEntry(i);\n",
    "    \n",
    "    int goodphoton_index[2];\n",
    "    int goodphoton_n = 0;\n",
    "    int photon_index =0;\n",
    "    int goodphoton1_index = goodphoton_index[0];\n",
    "    int goodphoton2_index = goodphoton_index[1];\n",
    "    for(unsigned int i=0; i<photon_n; i++){\n",
    "      // photons are tight\n",
    "        if( photon_isTightID->at(i) ){ \n",
    "           // photons with 25 GeV and excluding the transition region between the barrel and endcap calorimeters\n",
    "          if( photon_pt->at(i) >25000. && TMath::Abs(photon_eta->at(i)<2.37) && ( TMath::Abs(photon_eta->at(i) < 1.37) || TMath::Abs(photon_eta->at(i) > 1.52) ) ){\n",
    "              goodphoton_n = goodphoton_n + 1;\n",
    "              goodphoton_index[photon_index] = i;\n",
    "              photon_index++;\n",
    "        }\n",
    "      }\n",
    "    }    \n",
    "   \n",
    "    \n",
    "    // TLorentzVector definitions \n",
    "    TLorentzVector Photon_1  = TLorentzVector();\n",
    "    TLorentzVector Photon_2  = TLorentzVector();\n",
    "    \n",
    "    Photon_1.SetPtEtaPhiE(photon_pt->at(goodphoton1_index), photon_eta->at(goodphoton1_index), photon_phi->at(goodphoton1_index),photon_E->at(goodphoton1_index));\n",
    "    Photon_2.SetPtEtaPhiE(photon_pt->at(goodphoton2_index), photon_eta->at(goodphoton2_index), photon_phi->at(goodphoton2_index),photon_E->at(goodphoton2_index));\n",
    "\n",
    "    \n",
    "    //Exactly two photons   \n",
    "    if(goodphoton_n==2 ){\n",
    "        float dPhi_yy = fabs(photon_phi->at(goodphoton1_index) - photon_phi->at(goodphoton2_index) );\n",
    "        dPhi_yy       = dPhi_yy < TMath::Pi() ? dPhi_yy : 2*TMath::Pi() - dPhi_yy;\n",
    "        float m_yy = sqrt( 2 * Photon_1.Pt() * Photon_2.Pt() * (cosh( Photon_1.Eta() - Photon_2.Eta()) - cos(dPhi_yy)));\n",
    "        \n",
    "        //Calculation of the Invariant Mass using TLorentz vectors\n",
    "        TLorentzVector Photon_12 = Photon_1 + Photon_2;                   \n",
    "        float mass_inv_GeV = Photon_12.M()/1000.;\n",
    "        h_M_Hyy->Fill(mass_inv_GeV);\n",
    "    } \n",
    "}\n"
   ]
  },
  {
   "cell_type": "code",
   "execution_count": 11,
   "metadata": {
    "collapsed": false
   },
   "outputs": [
    {
     "data": {
      "image/png": "[encoded data removed]",
      "text/plain": [
       "<IPython.core.display.Image object>"
      ]
     },
     "metadata": {},
     "output_type": "display_data"
    }
   ],
   "source": [
    "TCanvas *cz = new TCanvas(\"cz\",\"cz\",10,10,900,600);\n",
    "TText tz; tz.SetTextFont(42); tz.SetTextAlign(21);\n",
    "h_M_Hyy->Draw();\n",
    "cz->Draw();"
   ]
  },
  {
   "cell_type": "code",
   "execution_count": null,
   "metadata": {
    "collapsed": true
   },
   "outputs": [],
   "source": []
  }
 ],
 "metadata": {
  "kernelspec": {
   "display_name": "ROOT Prompt",
   "language": "c++",
   "name": "root"
  },
  "language_info": {
   "codemirror_mode": {
    "name": "ipython",
    "version": 2
   },
   "file_extension": ".py",
   "mimetype": "text/x-python",
   "name": "python",
   "nbconvert_exporter": "python",
   "pygments_lexer": "ipython2",
   "version": "2.7.9"
  }
 },
 "nbformat": 4,
 "nbformat_minor": 1
}
